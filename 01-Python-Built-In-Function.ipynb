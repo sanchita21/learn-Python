{
 "cells": [
  {
   "cell_type": "markdown",
   "metadata": {},
   "source": [
    "# Built In Function\n",
    "\n",
    "The Python interpreter has a number of functions and types built into it that are always available."
   ]
  },
  {
   "cell_type": "code",
   "execution_count": 1,
   "metadata": {},
   "outputs": [
    {
     "name": "stdout",
     "output_type": "stream",
     "text": [
      "1.0 --> 1.0 \n",
      "3.0 --> 3.0 \n",
      "-2.0 --> 2.0 \n",
      "0.5 --> 0.5 \n",
      "0.35 --> 0.35 \n",
      "0.77 --> 0.77 \n",
      "-0.23 --> 0.23 \n",
      "-0.82 --> 0.82 \n"
     ]
    }
   ],
   "source": [
    "#defining the sample number list\n",
    "number_list = [1.00,3.00,-2.00,0.50,0.35,0.77,-0.23,-0.82]\n",
    "\n",
    "#return the absolute value of the given number\n",
    "for no in number_list:\n",
    "    print('{} --> {} '.format(no,abs(no)))"
   ]
  },
  {
   "cell_type": "code",
   "execution_count": 4,
   "metadata": {},
   "outputs": [
    {
     "name": "stdout",
     "output_type": "stream",
     "text": [
      "(2+4j)\n",
      "4.47213595499958\n"
     ]
    }
   ],
   "source": [
    "#complex number\n",
    "complex_num = complex(2,4)\n",
    "print(complex_num)\n",
    "\n",
    "#return the magnitude of the complex number\n",
    "print(abs(complex_num))    "
   ]
  },
  {
   "cell_type": "code",
   "execution_count": 3,
   "metadata": {},
   "outputs": [
    {
     "name": "stdout",
     "output_type": "stream",
     "text": [
      "False\n",
      "True\n"
     ]
    }
   ],
   "source": [
    "#defining the complex list with empty element\n",
    "complex_list = ['a','','c','d',1,'f',True,'g']\n",
    "\n",
    "#return True if all elements of the iterable are true ie non empty\n",
    "print(all(complex_list))\n",
    "\n",
    "#return True if any elements of the iterable are true ie non empty\n",
    "print(any(complex_list))"
   ]
  },
  {
   "cell_type": "code",
   "execution_count": 4,
   "metadata": {},
   "outputs": [
    {
     "name": "stdout",
     "output_type": "stream",
     "text": [
      "True\n",
      "True\n"
     ]
    }
   ],
   "source": [
    "#defining the complex list with non-empty element\n",
    "complex_list = ['a','b','c','d',1,'f',True,'g']\n",
    "\n",
    "#return True if all elements of the iterable are true ie non empty\n",
    "print(all(complex_list))\n",
    "\n",
    "#return True if any elements of the iterable are true ie non empty\n",
    "print(any(complex_list))"
   ]
  },
  {
   "cell_type": "code",
   "execution_count": 6,
   "metadata": {},
   "outputs": [
    {
     "name": "stdout",
     "output_type": "stream",
     "text": [
      "1 0b1\n",
      "2 0b10\n",
      "3 0b11\n",
      "1 0b1\n",
      "-2 -0b10\n",
      "-3 -0b11\n"
     ]
    }
   ],
   "source": [
    "integer_list = [1,2,3,1,-2,-3]\n",
    "\n",
    "for no in integer_list:\n",
    "    print('{} {}'.format(no, bin(no)))"
   ]
  },
  {
   "cell_type": "code",
   "execution_count": 7,
   "metadata": {},
   "outputs": [
    {
     "name": "stdout",
     "output_type": "stream",
     "text": [
      "1 1\n",
      "2 2\n",
      "3 3\n",
      "5 5\n",
      "-1 -1\n",
      "-2 -2\n",
      "-3 -3\n"
     ]
    }
   ],
   "source": [
    "integer_list = [1,2,3,5,-1,-2,-3]\n",
    "\n",
    "for no in integer_list:\n",
    "    print('{} {}'.format(no, str(no)))"
   ]
  },
  {
   "cell_type": "code",
   "execution_count": 10,
   "metadata": {},
   "outputs": [
    {
     "name": "stdout",
     "output_type": "stream",
     "text": [
      "3 True\n",
      "2 True\n",
      "1 True\n",
      "0 False\n",
      "-1 True\n",
      "-2 True\n",
      "-3 True\n"
     ]
    }
   ],
   "source": [
    "integer_list = [3,2,1,0,-1,-2,-3]\n",
    "\n",
    "for no in integer_list:\n",
    "    print('{} {}'.format(no, bool(no)))"
   ]
  },
  {
   "cell_type": "markdown",
   "metadata": {},
   "source": [
    "The difference between bytearray and bytes in Python is - bytes like str,is an immutable sequence of bytes bytearray is mutable. [Read More](http://ze.phyr.us/bytearray/)"
   ]
  },
  {
   "cell_type": "code",
   "execution_count": 22,
   "metadata": {},
   "outputs": [
    {
     "data": {
      "text/plain": [
       "bytearray(b'\\x03\\x02\\x01\\x00')"
      ]
     },
     "execution_count": 22,
     "metadata": {},
     "output_type": "execute_result"
    }
   ],
   "source": [
    "#defining the integer number list\n",
    "integer_list = [3,2,1,0]\n",
    "\n",
    "#mutable\n",
    "bytearray(integer_list)"
   ]
  },
  {
   "cell_type": "code",
   "execution_count": 24,
   "metadata": {},
   "outputs": [
    {
     "data": {
      "text/plain": [
       "b'\\x03\\x02\\x01\\x00'"
      ]
     },
     "execution_count": 24,
     "metadata": {},
     "output_type": "execute_result"
    }
   ],
   "source": [
    "#defining the integer number list\n",
    "integer_list = [3,2,1,0]\n",
    "\n",
    "#immutable\n",
    "bytes(integer_list)"
   ]
  },
  {
   "cell_type": "markdown",
   "metadata": {},
   "source": [
    "Function **callable** return True if the object argument appears callable, False if not. If this returns true, it is still possible that a call fails, but if it is false, calling object will never succeed. Note that classes are callable (calling a class returns a new instance); instances are callable if their class has a __call__() method."
   ]
  },
  {
   "cell_type": "code",
   "execution_count": 27,
   "metadata": {
    "collapsed": true
   },
   "outputs": [],
   "source": [
    "#sample class with __call__ function \n",
    "class check():\n",
    "    def __call__():\n",
    "        print('Anything')"
   ]
  },
  {
   "cell_type": "code",
   "execution_count": 28,
   "metadata": {},
   "outputs": [
    {
     "data": {
      "text/plain": [
       "True"
      ]
     },
     "execution_count": 28,
     "metadata": {},
     "output_type": "execute_result"
    }
   ],
   "source": [
    "#check for callable function\n",
    "callable(check())"
   ]
  },
  {
   "cell_type": "code",
   "execution_count": 1,
   "metadata": {},
   "outputs": [
    {
     "name": "stdout",
     "output_type": "stream",
     "text": [
      "97\n",
      "€\n"
     ]
    }
   ],
   "source": [
    "#ord return the unicode code point of that char in integer\n",
    "print(ord('a'))\n",
    "\n",
    "#chr convert unicode code point integer into char representation \n",
    "print(chr(8364))\n",
    "\n",
    "#The valid range for the argument is from 0 through 1,114,111 (0x10FFFF in base 16).\n",
    "#ValueError will be raised if i is outside that range."
   ]
  },
  {
   "cell_type": "code",
   "execution_count": 2,
   "metadata": {
    "collapsed": true
   },
   "outputs": [],
   "source": [
    "#@classmethod"
   ]
  },
  {
   "cell_type": "code",
   "execution_count": 3,
   "metadata": {
    "collapsed": true
   },
   "outputs": [],
   "source": [
    "#compile"
   ]
  },
  {
   "cell_type": "markdown",
   "metadata": {},
   "source": [
    "Functions **delattr(), setattr(), getattr(), hasattr()**  "
   ]
  },
  {
   "cell_type": "code",
   "execution_count": 43,
   "metadata": {},
   "outputs": [],
   "source": [
    "class Person:\n",
    "    name = 'Abhishek'\n",
    "    age = 22\n",
    "    \n",
    "obj = Person()"
   ]
  },
  {
   "cell_type": "code",
   "execution_count": 44,
   "metadata": {},
   "outputs": [
    {
     "data": {
      "text/plain": [
       "True"
      ]
     },
     "execution_count": 44,
     "metadata": {},
     "output_type": "execute_result"
    }
   ],
   "source": [
    "hasattr(obj,'name')"
   ]
  },
  {
   "cell_type": "code",
   "execution_count": 45,
   "metadata": {},
   "outputs": [
    {
     "data": {
      "text/plain": [
       "'Abhishek'"
      ]
     },
     "execution_count": 45,
     "metadata": {},
     "output_type": "execute_result"
    }
   ],
   "source": [
    "getattr(obj,'name')"
   ]
  },
  {
   "cell_type": "code",
   "execution_count": 46,
   "metadata": {},
   "outputs": [
    {
     "name": "stdout",
     "output_type": "stream",
     "text": [
      "Before modification: Abhishek\n",
      "After modification: Abhishek Verma\n"
     ]
    }
   ],
   "source": [
    "print('Before modification:', obj.name)\n",
    "\n",
    "setattr(obj, 'name', 'Abhishek Verma')\n",
    "\n",
    "print('After modification:', obj.name)"
   ]
  },
  {
   "cell_type": "markdown",
   "metadata": {},
   "source": [
    "[Read More](https://stackoverflow.com/questions/1120927/which-is-better-in-python-del-or-delattr) about delattr() and del. [Example](https://www.programiz.com/python-programming/methods/built-in/delattr)"
   ]
  },
  {
   "cell_type": "code",
   "execution_count": 48,
   "metadata": {},
   "outputs": [],
   "source": [
    "delattr(Person,'age')"
   ]
  },
  {
   "cell_type": "code",
   "execution_count": 49,
   "metadata": {},
   "outputs": [
    {
     "data": {
      "text/plain": [
       "False"
      ]
     },
     "execution_count": 49,
     "metadata": {},
     "output_type": "execute_result"
    }
   ],
   "source": [
    "hasattr(obj,'age')"
   ]
  },
  {
   "cell_type": "code",
   "execution_count": 52,
   "metadata": {},
   "outputs": [
    {
     "data": {
      "text/plain": [
       "['__class__',\n",
       " '__delattr__',\n",
       " '__dict__',\n",
       " '__dir__',\n",
       " '__doc__',\n",
       " '__eq__',\n",
       " '__format__',\n",
       " '__ge__',\n",
       " '__getattribute__',\n",
       " '__gt__',\n",
       " '__hash__',\n",
       " '__init__',\n",
       " '__init_subclass__',\n",
       " '__le__',\n",
       " '__lt__',\n",
       " '__module__',\n",
       " '__ne__',\n",
       " '__new__',\n",
       " '__reduce__',\n",
       " '__reduce_ex__',\n",
       " '__repr__',\n",
       " '__setattr__',\n",
       " '__sizeof__',\n",
       " '__str__',\n",
       " '__subclasshook__',\n",
       " '__weakref__',\n",
       " 'name']"
      ]
     },
     "execution_count": 52,
     "metadata": {},
     "output_type": "execute_result"
    }
   ],
   "source": [
    "dir(obj)"
   ]
  },
  {
   "cell_type": "code",
   "execution_count": 54,
   "metadata": {},
   "outputs": [
    {
     "data": {
      "text/plain": [
       "(1, 5)"
      ]
     },
     "execution_count": 54,
     "metadata": {},
     "output_type": "execute_result"
    }
   ],
   "source": [
    "divmod(12,7)"
   ]
  },
  {
   "cell_type": "code",
   "execution_count": 61,
   "metadata": {},
   "outputs": [
    {
     "name": "stdout",
     "output_type": "stream",
     "text": [
      "(0, 'one')\n"
     ]
    }
   ],
   "source": [
    "number_name = ['one','two','three','four']\n",
    "enum = enumerate(number_name)\n",
    "print(enum.__next__())"
   ]
  },
  {
   "cell_type": "code",
   "execution_count": 62,
   "metadata": {},
   "outputs": [
    {
     "name": "stdout",
     "output_type": "stream",
     "text": [
      "[(1, 'two'), (2, 'three'), (3, 'four')]\n"
     ]
    }
   ],
   "source": [
    "print(list(enum))"
   ]
  },
  {
   "cell_type": "code",
   "execution_count": 64,
   "metadata": {},
   "outputs": [],
   "source": [
    "x = 23"
   ]
  },
  {
   "cell_type": "code",
   "execution_count": 67,
   "metadata": {},
   "outputs": [
    {
     "data": {
      "text/plain": [
       "73"
      ]
     },
     "execution_count": 67,
     "metadata": {},
     "output_type": "execute_result"
    }
   ],
   "source": [
    "eval('2*x + 27')"
   ]
  },
  {
   "cell_type": "code",
   "execution_count": 68,
   "metadata": {
    "collapsed": true
   },
   "outputs": [],
   "source": [
    "#exec"
   ]
  },
  {
   "cell_type": "code",
   "execution_count": 78,
   "metadata": {},
   "outputs": [
    {
     "data": {
      "text/plain": [
       "-23.0"
      ]
     },
     "execution_count": 78,
     "metadata": {},
     "output_type": "execute_result"
    }
   ],
   "source": [
    "#return a floating point number constructed from a number or string x.\n",
    "number = '-23'\n",
    "float(number)"
   ]
  },
  {
   "cell_type": "code",
   "execution_count": null,
   "metadata": {
    "collapsed": true
   },
   "outputs": [],
   "source": []
  }
 ],
 "metadata": {
  "kernelspec": {
   "display_name": "Python 3",
   "language": "python",
   "name": "python3"
  },
  "language_info": {
   "codemirror_mode": {
    "name": "ipython",
    "version": 3
   },
   "file_extension": ".py",
   "mimetype": "text/x-python",
   "name": "python",
   "nbconvert_exporter": "python",
   "pygments_lexer": "ipython3",
   "version": "3.7.3"
  }
 },
 "nbformat": 4,
 "nbformat_minor": 2
}

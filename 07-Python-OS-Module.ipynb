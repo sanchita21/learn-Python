{
 "cells": [
  {
   "cell_type": "markdown",
   "metadata": {},
   "source": [
    "# Python OS Module"
   ]
  },
  {
   "cell_type": "code",
   "execution_count": 2,
   "metadata": {},
   "outputs": [],
   "source": [
    "import sys\n",
    "import os"
   ]
  },
  {
   "cell_type": "code",
   "execution_count": 7,
   "metadata": {},
   "outputs": [
    {
     "data": {
      "text/plain": [
       "'posix'"
      ]
     },
     "execution_count": 7,
     "metadata": {},
     "output_type": "execute_result"
    }
   ],
   "source": [
    "os.name"
   ]
  },
  {
   "cell_type": "code",
   "execution_count": 9,
   "metadata": {},
   "outputs": [
    {
     "data": {
      "text/plain": [
       "'darwin'"
      ]
     },
     "execution_count": 9,
     "metadata": {},
     "output_type": "execute_result"
    }
   ],
   "source": [
    "sys.platform "
   ]
  },
  {
   "cell_type": "code",
   "execution_count": 11,
   "metadata": {},
   "outputs": [
    {
     "data": {
      "text/plain": [
       "posix.uname_result(sysname='Darwin', nodename='Abhisheks-MBP-2', release='18.6.0', version='Darwin Kernel Version 18.6.0: Thu Apr 25 23:16:27 PDT 2019; root:xnu-4903.261.4~2/RELEASE_X86_64', machine='x86_64')"
      ]
     },
     "execution_count": 11,
     "metadata": {},
     "output_type": "execute_result"
    }
   ],
   "source": [
    "os.uname()"
   ]
  },
  {
   "cell_type": "code",
   "execution_count": 12,
   "metadata": {},
   "outputs": [
    {
     "data": {
      "text/plain": [
       "'/dev/tty'"
      ]
     },
     "execution_count": 12,
     "metadata": {},
     "output_type": "execute_result"
    }
   ],
   "source": [
    "os.ctermid()"
   ]
  },
  {
   "cell_type": "code",
   "execution_count": 13,
   "metadata": {},
   "outputs": [
    {
     "data": {
      "text/plain": [
       "environ{'TERM_PROGRAM': 'Apple_Terminal',\n",
       "        'SHELL': '/bin/bash',\n",
       "        'TERM': 'xterm-color',\n",
       "        'TMPDIR': '/var/folders/7z/q8jjt5zs4s16m5536wfgtv1h0000gn/T/',\n",
       "        'CONDA_SHLVL': '1',\n",
       "        'Apple_PubSub_Socket_Render': '/private/tmp/com.apple.launchd.3iDMmyYc1o/Render',\n",
       "        'CONDA_PROMPT_MODIFIER': '(base) ',\n",
       "        'TERM_PROGRAM_VERSION': '421.2',\n",
       "        'TERM_SESSION_ID': 'F3827A6B-70FB-4450-811E-F70BB2057369',\n",
       "        'USER': 'abhishekverma',\n",
       "        'CONDA_EXE': '/Users/abhishekverma/Applications/anaconda3/bin/conda',\n",
       "        'SSH_AUTH_SOCK': '/private/tmp/com.apple.launchd.0ONuL5RVed/Listeners',\n",
       "        '_CE_CONDA': '',\n",
       "        'PATH': '/Users/abhishekverma/Applications/anaconda3/bin:/Users/abhishekverma/Applications/anaconda3/bin:/Users/abhishekverma/Applications/anaconda3/condabin:/Users/abhishekverma/Applications/anaconda3/bin:/usr/local/bin:/usr/bin:/bin:/usr/sbin:/sbin:/Library/Frameworks/Mono.framework/Versions/Current/Commands',\n",
       "        'CONDA_PREFIX': '/Users/abhishekverma/Applications/anaconda3',\n",
       "        'PWD': '/Users/abhishekverma',\n",
       "        'JAVA_HOME': '/Library/Java/JavaVirtualMachines/jdk1.8.0_201.jdk/Contents/Home',\n",
       "        'XPC_FLAGS': '0x0',\n",
       "        '_CE_M': '',\n",
       "        'XPC_SERVICE_NAME': '0',\n",
       "        'SHLVL': '1',\n",
       "        'HOME': '/Users/abhishekverma',\n",
       "        'CONDA_PYTHON_EXE': '/Users/abhishekverma/Applications/anaconda3/bin/python',\n",
       "        'LOGNAME': 'abhishekverma',\n",
       "        'LC_CTYPE': 'UTF-8',\n",
       "        'CONDA_DEFAULT_ENV': 'base',\n",
       "        '_': '/Users/abhishekverma/Applications/anaconda3/bin/jupyter',\n",
       "        'JPY_PARENT_PID': '6533',\n",
       "        'CLICOLOR': '1',\n",
       "        'PAGER': 'cat',\n",
       "        'GIT_PAGER': 'cat',\n",
       "        'MPLBACKEND': 'module://ipykernel.pylab.backend_inline'}"
      ]
     },
     "execution_count": 13,
     "metadata": {},
     "output_type": "execute_result"
    }
   ],
   "source": [
    "os.environ"
   ]
  },
  {
   "cell_type": "code",
   "execution_count": 14,
   "metadata": {},
   "outputs": [
    {
     "data": {
      "text/plain": [
       "environ{b'TERM_PROGRAM': b'Apple_Terminal',\n",
       "        b'SHELL': b'/bin/bash',\n",
       "        b'TERM': b'xterm-color',\n",
       "        b'TMPDIR': b'/var/folders/7z/q8jjt5zs4s16m5536wfgtv1h0000gn/T/',\n",
       "        b'CONDA_SHLVL': b'1',\n",
       "        b'Apple_PubSub_Socket_Render': b'/private/tmp/com.apple.launchd.3iDMmyYc1o/Render',\n",
       "        b'CONDA_PROMPT_MODIFIER': b'(base) ',\n",
       "        b'TERM_PROGRAM_VERSION': b'421.2',\n",
       "        b'TERM_SESSION_ID': b'F3827A6B-70FB-4450-811E-F70BB2057369',\n",
       "        b'USER': b'abhishekverma',\n",
       "        b'CONDA_EXE': b'/Users/abhishekverma/Applications/anaconda3/bin/conda',\n",
       "        b'SSH_AUTH_SOCK': b'/private/tmp/com.apple.launchd.0ONuL5RVed/Listeners',\n",
       "        b'_CE_CONDA': b'',\n",
       "        b'PATH': b'/Users/abhishekverma/Applications/anaconda3/bin:/Users/abhishekverma/Applications/anaconda3/bin:/Users/abhishekverma/Applications/anaconda3/condabin:/Users/abhishekverma/Applications/anaconda3/bin:/usr/local/bin:/usr/bin:/bin:/usr/sbin:/sbin:/Library/Frameworks/Mono.framework/Versions/Current/Commands',\n",
       "        b'CONDA_PREFIX': b'/Users/abhishekverma/Applications/anaconda3',\n",
       "        b'PWD': b'/Users/abhishekverma',\n",
       "        b'JAVA_HOME': b'/Library/Java/JavaVirtualMachines/jdk1.8.0_201.jdk/Contents/Home',\n",
       "        b'XPC_FLAGS': b'0x0',\n",
       "        b'_CE_M': b'',\n",
       "        b'XPC_SERVICE_NAME': b'0',\n",
       "        b'SHLVL': b'1',\n",
       "        b'HOME': b'/Users/abhishekverma',\n",
       "        b'CONDA_PYTHON_EXE': b'/Users/abhishekverma/Applications/anaconda3/bin/python',\n",
       "        b'LOGNAME': b'abhishekverma',\n",
       "        b'LC_CTYPE': b'UTF-8',\n",
       "        b'CONDA_DEFAULT_ENV': b'base',\n",
       "        b'_': b'/Users/abhishekverma/Applications/anaconda3/bin/jupyter',\n",
       "        b'JPY_PARENT_PID': b'6533',\n",
       "        b'CLICOLOR': b'1',\n",
       "        b'PAGER': b'cat',\n",
       "        b'GIT_PAGER': b'cat',\n",
       "        b'MPLBACKEND': b'module://ipykernel.pylab.backend_inline'}"
      ]
     },
     "execution_count": 14,
     "metadata": {},
     "output_type": "execute_result"
    }
   ],
   "source": [
    "os.environb"
   ]
  },
  {
   "cell_type": "code",
   "execution_count": 15,
   "metadata": {},
   "outputs": [
    {
     "data": {
      "text/plain": [
       "'/Users/abhishekverma/Applications/learn-Python'"
      ]
     },
     "execution_count": 15,
     "metadata": {},
     "output_type": "execute_result"
    }
   ],
   "source": [
    "os.getcwd()"
   ]
  },
  {
   "cell_type": "code",
   "execution_count": 19,
   "metadata": {},
   "outputs": [
    {
     "data": {
      "text/plain": [
       "['/Users/abhishekverma/Applications/learn-Python',\n",
       " '/Users/abhishekverma/Applications/anaconda3/lib/python37.zip',\n",
       " '/Users/abhishekverma/Applications/anaconda3/lib/python3.7',\n",
       " '/Users/abhishekverma/Applications/anaconda3/lib/python3.7/lib-dynload',\n",
       " '',\n",
       " '/Users/abhishekverma/Applications/anaconda3/lib/python3.7/site-packages',\n",
       " '/Users/abhishekverma/Applications/anaconda3/lib/python3.7/site-packages/aeosa',\n",
       " '/Users/abhishekverma/Applications/anaconda3/lib/python3.7/site-packages/IPython/extensions',\n",
       " '/Users/abhishekverma/.ipython']"
      ]
     },
     "execution_count": 19,
     "metadata": {},
     "output_type": "execute_result"
    }
   ],
   "source": [
    "sys.path"
   ]
  },
  {
   "cell_type": "code",
   "execution_count": 20,
   "metadata": {},
   "outputs": [
    {
     "data": {
      "text/plain": [
       "'darwin'"
      ]
     },
     "execution_count": 20,
     "metadata": {},
     "output_type": "execute_result"
    }
   ],
   "source": [
    "sys.platform"
   ]
  },
  {
   "cell_type": "code",
   "execution_count": 21,
   "metadata": {},
   "outputs": [
    {
     "data": {
      "text/plain": [
       "'3.7.3 (default, Mar 27 2019, 16:54:48) \\n[Clang 4.0.1 (tags/RELEASE_401/final)]'"
      ]
     },
     "execution_count": 21,
     "metadata": {},
     "output_type": "execute_result"
    }
   ],
   "source": [
    "sys.version"
   ]
  },
  {
   "cell_type": "code",
   "execution_count": 22,
   "metadata": {},
   "outputs": [
    {
     "data": {
      "text/plain": [
       "sys.version_info(major=3, minor=7, micro=3, releaselevel='final', serial=0)"
      ]
     },
     "execution_count": 22,
     "metadata": {},
     "output_type": "execute_result"
    }
   ],
   "source": [
    "sys.version_info"
   ]
  },
  {
   "cell_type": "code",
   "execution_count": null,
   "metadata": {},
   "outputs": [],
   "source": []
  }
 ],
 "metadata": {
  "kernelspec": {
   "display_name": "Python 3",
   "language": "python",
   "name": "python3"
  },
  "language_info": {
   "codemirror_mode": {
    "name": "ipython",
    "version": 3
   },
   "file_extension": ".py",
   "mimetype": "text/x-python",
   "name": "python",
   "nbconvert_exporter": "python",
   "pygments_lexer": "ipython3",
   "version": "3.7.3"
  }
 },
 "nbformat": 4,
 "nbformat_minor": 2
}

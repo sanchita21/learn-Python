{
 "cells": [
  {
   "cell_type": "code",
   "execution_count": 1,
   "metadata": {},
   "outputs": [
    {
     "name": "stdout",
     "output_type": "stream",
     "text": [
      "Abhishek got 90 in end term exam.\n",
      "Anuj got 85 in end term exam.\n",
      "Jashan got 80 in end term exam.\n",
      "Anirban got 70 in end term exam.\n",
      "Harshit got 75 in end term exam.\n"
     ]
    }
   ],
   "source": [
    "from string import Template\n",
    "\n",
    "student = [('Abhishek',90),('Anuj',85),('Jashan',80),('Anirban',70),('Harshit',75)]\n",
    "\n",
    "temp = Template(\"$name got $marks in end term exam.\")\n",
    "\n",
    "for stu in student:\n",
    "\tprint(temp.substitute(name = stu[0], marks = stu[1]))"
   ]
  },
  {
   "cell_type": "code",
   "execution_count": 3,
   "metadata": {},
   "outputs": [
    {
     "name": "stdout",
     "output_type": "stream",
     "text": [
      "cart:\n",
      "2 x Coke = 8\n",
      "1 x Cake = 12\n",
      "4 x Chips = 32\n",
      "Total52\n"
     ]
    }
   ],
   "source": [
    "from string import Template\n",
    "\n",
    "def myMain():\n",
    "\n",
    "    cart = []\n",
    "    cart.append(dict(item=\"Coke\",price=8,qty=2))\n",
    "    cart.append(dict(item=\"Cake\",price=12,qty=1))\n",
    "    cart.append(dict(item=\"Chips\",price=32,qty=4))\n",
    "    \n",
    "    t = Template(\"$qty x $item = $price\")\n",
    "    \n",
    "    total = 0\n",
    "    print(\"cart:\")\n",
    "\n",
    "    for data in cart:\n",
    "        print(t.substitute(data))\n",
    "        total += data['price']\n",
    "\n",
    "    print(\"Total\"+ str(total))\n",
    "\n",
    "\n",
    "if __name__ == \"__main__\":\n",
    "    myMain()"
   ]
  },
  {
   "cell_type": "code",
   "execution_count": 4,
   "metadata": {},
   "outputs": [
    {
     "ename": "SyntaxError",
     "evalue": "invalid syntax (<ipython-input-4-cac2a60e9988>, line 24)",
     "output_type": "error",
     "traceback": [
      "\u001b[0;36m  File \u001b[0;32m\"<ipython-input-4-cac2a60e9988>\"\u001b[0;36m, line \u001b[0;32m24\u001b[0m\n\u001b[0;31m    print \"The \" + str(args.num)+ \"th fib number is \" + str(result)\u001b[0m\n\u001b[0m               ^\u001b[0m\n\u001b[0;31mSyntaxError\u001b[0m\u001b[0;31m:\u001b[0m invalid syntax\n"
     ]
    }
   ],
   "source": [
    "import argparse\n",
    "\n",
    "def fib(n):\n",
    "    a, b = 0, 1\n",
    "    for i in range(n):\n",
    "        a, b = b, a+b\n",
    "    return a\n",
    "\n",
    "\n",
    "def Main():\n",
    "\n",
    "    parser = argparse.ArgumentParser()\n",
    "    parser.add_argument(\"num\", help=\"The Fibonacci number you wish to calculate.\", type=int)\n",
    "    parser.add_argument(\"-o\", \"--output\", help=\"Output the result to a file\", action=\"store_true\")\n",
    "\n",
    "    group = parser.add_mutually_exclusive_group()\n",
    "    group.add_argument(\"-v\", \"--verbose\", action=\"store_true\")\n",
    "    group.add_argument(\"-q\", \"--quiet\", action=\"store_true\")\n",
    "\n",
    "    args = parser.parse_args()\n",
    "    \n",
    "    result = fib(args.num)\n",
    "    if args.verbose:\n",
    "        print \"The \" + str(args.num)+ \"th fib number is \" + str(result)\n",
    "    elif args.quiet:\n",
    "        print result\n",
    "    else:\n",
    "        print \"Fib(\"+str(args.num)+\") = \" + str(result)\n",
    "\n",
    "    if args.output:\n",
    "        f = open(\"fibonacci.txt\",\"a\")\n",
    "        f.write(str(result) + '\\n')\n",
    "\n",
    "if __name__ == '__main__':\n",
    "    Main()"
   ]
  },
  {
   "cell_type": "code",
   "execution_count": null,
   "metadata": {},
   "outputs": [],
   "source": []
  }
 ],
 "metadata": {
  "kernelspec": {
   "display_name": "Python 3",
   "language": "python",
   "name": "python3"
  },
  "language_info": {
   "codemirror_mode": {
    "name": "ipython",
    "version": 3
   },
   "file_extension": ".py",
   "mimetype": "text/x-python",
   "name": "python",
   "nbconvert_exporter": "python",
   "pygments_lexer": "ipython3",
   "version": "3.7.3"
  }
 },
 "nbformat": 4,
 "nbformat_minor": 2
}
